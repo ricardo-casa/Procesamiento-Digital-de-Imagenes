{
  "cells": [
    {
      "cell_type": "markdown",
      "metadata": {
        "id": "view-in-github",
        "colab_type": "text"
      },
      "source": [
        "<a href=\"https://colab.research.google.com/github/ricardo-casa/Procesamiento-Digital-de-Imagenes/blob/main/Tarea2.ipynb\" target=\"_parent\"><img src=\"https://colab.research.google.com/assets/colab-badge.svg\" alt=\"Open In Colab\"/></a>"
      ]
    },
    {
      "cell_type": "code",
      "execution_count": 11,
      "metadata": {
        "id": "PHIloWbWIkIB"
      },
      "outputs": [],
      "source": [
        "import matplotlib.pyplot as plt\n",
        "import numpy as np"
      ]
    },
    {
      "cell_type": "markdown",
      "metadata": {
        "id": "2XpB1cDdIkIF"
      },
      "source": [
        "Definiendo las funciones de patron de la imagen y de degradado"
      ]
    },
    {
      "cell_type": "code",
      "execution_count": 12,
      "metadata": {
        "id": "V-ZCy7r_IkIG"
      },
      "outputs": [],
      "source": [
        "def sin_x(x): \n",
        "    return np.sin(np.exp(x) * 5)\n",
        "\n",
        "def exp_nx(y):\n",
        "    return np.exp(-2*y)-256"
      ]
    },
    {
      "cell_type": "markdown",
      "metadata": {
        "id": "FsH3nMrxIkIH"
      },
      "source": [
        "Definicion de tamano de imagen y de dominio"
      ]
    },
    {
      "cell_type": "code",
      "execution_count": 13,
      "metadata": {
        "colab": {
          "base_uri": "https://localhost:8080/"
        },
        "id": "ZOfOJ-RPIkIH",
        "outputId": "b77d6390-eb54-45a9-fc9c-e7a0927799a9"
      },
      "outputs": [
        {
          "output_type": "execute_result",
          "data": {
            "text/plain": [
              "512"
            ]
          },
          "metadata": {},
          "execution_count": 13
        }
      ],
      "source": [
        "N = 512\n",
        "x = np.linspace(-np.pi, np.pi, N)\n",
        "len(x)"
      ]
    },
    {
      "cell_type": "markdown",
      "metadata": {
        "id": "qYfwFOH9IkII"
      },
      "source": [
        "Obteniendo valores"
      ]
    },
    {
      "cell_type": "code",
      "execution_count": 14,
      "metadata": {
        "colab": {
          "base_uri": "https://localhost:8080/"
        },
        "id": "5MpEqF9HIkIJ",
        "outputId": "aacea028-01e9-407a-c1b3-b724896d43ff"
      },
      "outputs": [
        {
          "output_type": "execute_result",
          "data": {
            "text/plain": [
              "array([[ 54.67002924,  55.33563945,  56.00908162, ..., -51.78952117,\n",
              "        236.93867994, 130.1114615 ],\n",
              "       [ 54.67002924,  55.33563945,  56.00908162, ..., -51.78952117,\n",
              "        236.93867994, 130.1114615 ],\n",
              "       [ 54.67002924,  55.33563945,  56.00908162, ..., -51.78952117,\n",
              "        236.93867994, 130.1114615 ],\n",
              "       ...,\n",
              "       [ 54.67002924,  55.33563945,  56.00908162, ..., -51.78952117,\n",
              "        236.93867994, 130.1114615 ],\n",
              "       [ 54.67002924,  55.33563945,  56.00908162, ..., -51.78952117,\n",
              "        236.93867994, 130.1114615 ],\n",
              "       [ 54.67002924,  55.33563945,  56.00908162, ..., -51.78952117,\n",
              "        236.93867994, 130.1114615 ]])"
            ]
          },
          "metadata": {},
          "execution_count": 14
        }
      ],
      "source": [
        "fx = 255 * (sin_x(x))  #valuar funcion\n",
        "fy = fx * exp_nx(fx)\n",
        "fy = np.uint8(fx)\n",
        "fy2 = np.tile(fx, (N,1))    #obtener valores para 2d\n",
        "fy2"
      ]
    },
    {
      "cell_type": "code",
      "execution_count": 15,
      "metadata": {
        "colab": {
          "base_uri": "https://localhost:8080/",
          "height": 269
        },
        "id": "Zexs7yyiIkIK",
        "outputId": "18246c1b-60f0-4409-bc9e-81592c26795a"
      },
      "outputs": [
        {
          "output_type": "display_data",
          "data": {
            "text/plain": [
              "<Figure size 432x288 with 1 Axes>"
            ],
            "image/png": "[encoded data removed]"
          },
          "metadata": {
            "needs_background": "light"
          }
        }
      ],
      "source": [
        "plt.imshow(fy2, cmap='gray')\n",
        "plt.show()"
      ]
    }
  ],
  "metadata": {
    "kernelspec": {
      "display_name": "Python 3.10.6 ('PDI-RP')",
      "language": "python",
      "name": "python3"
    },
    "language_info": {
      "codemirror_mode": {
        "name": "ipython",
        "version": 3
      },
      "file_extension": ".py",
      "mimetype": "text/x-python",
      "name": "python",
      "nbconvert_exporter": "python",
      "pygments_lexer": "ipython3",
      "version": "3.10.6"
    },
    "orig_nbformat": 4,
    "vscode": {
      "interpreter": {
        "hash": "6cc43b5cd2fef7bfa02ef4bc6e4e5d2f717934d2bb5dfc37dd578204e755709d"
      }
    },
    "colab": {
      "name": "Tarea2.ipynb",
      "provenance": [],
      "include_colab_link": true
    }
  },
  "nbformat": 4,
  "nbformat_minor": 0
}