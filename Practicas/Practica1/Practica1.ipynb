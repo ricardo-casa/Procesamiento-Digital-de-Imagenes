{
  "cells": [
    {
      "cell_type": "code",
      "execution_count": 12,
      "metadata": {
        "id": "PHIloWbWIkIB"
      },
      "outputs": [],
      "source": [
        "import matplotlib.pyplot as plt\n",
        "import numpy as np"
      ]
    },
    {
      "cell_type": "markdown",
      "metadata": {
        "id": "2XpB1cDdIkIF"
      },
      "source": [
        "Definiendo las funciones de patron de la imagen y de degradado"
      ]
    },
    {
      "cell_type": "code",
      "execution_count": 13,
      "metadata": {
        "id": "V-ZCy7r_IkIG"
      },
      "outputs": [],
      "source": [
        "def sin_x(x): \n",
        "    return np.sin(8 * np.exp(x*3))\n",
        "\n",
        "def exp_nx(y):\n",
        "    return np.exp(1/(-0.8*y)) "
      ]
    },
    {
      "cell_type": "markdown",
      "metadata": {
        "id": "FsH3nMrxIkIH"
      },
      "source": [
        "Definicion de tamano de imagen y de dominio"
      ]
    },
    {
      "cell_type": "code",
      "execution_count": 14,
      "metadata": {
        "colab": {
          "base_uri": "https://localhost:8080/"
        },
        "id": "ZOfOJ-RPIkIH",
        "outputId": "55df0e6c-69a6-439a-abff-6c7c672115ea"
      },
      "outputs": [
        {
          "data": {
            "text/plain": [
              "512"
            ]
          },
          "execution_count": 14,
          "metadata": {},
          "output_type": "execute_result"
        }
      ],
      "source": [
        "N = 512\n",
        "x = np.linspace(-1, 1, N)\n",
        "t = np.linspace(0, 1, N)\n",
        "\n",
        "len(x)"
      ]
    },
    {
      "cell_type": "markdown",
      "metadata": {
        "id": "qYfwFOH9IkII"
      },
      "source": [
        "Obteniendo valores"
      ]
    },
    {
      "cell_type": "code",
      "execution_count": 15,
      "metadata": {
        "colab": {
          "base_uri": "https://localhost:8080/"
        },
        "id": "5MpEqF9HIkIJ",
        "outputId": "23aace0d-3a44-4276-b0e9-43bec4acfb4f"
      },
      "outputs": [
        {
          "name": "stderr",
          "output_type": "stream",
          "text": [
            "C:\\Users\\felli\\AppData\\Local\\Temp\\ipykernel_11284\\3695539669.py:5: RuntimeWarning: divide by zero encountered in true_divide\n",
            "  return np.exp(1/(-0.8*y))\n"
          ]
        },
        {
          "data": {
            "text/plain": [
              "array([[ 0.00000000e+000,  0.00000000e+000,  0.00000000e+000, ...,\n",
              "        -0.00000000e+000,  0.00000000e+000, -0.00000000e+000],\n",
              "       [ 3.88689054e-276,  3.93030133e-276,  3.97413631e-276, ...,\n",
              "        -1.24730090e-276,  9.89652553e-276, -4.47664691e-276],\n",
              "       [ 1.96066081e-137,  1.98255848e-137,  2.00467012e-137, ...,\n",
              "        -6.29174907e-138,  4.99209576e-137, -2.25815110e-137],\n",
              "       ...,\n",
              "       [ 2.81969053e+001,  2.85118229e+001,  2.88298176e+001, ...,\n",
              "        -9.04837044e+000,  7.17929643e+001, -3.24752107e+001],\n",
              "       [ 2.82663724e+001,  2.85820658e+001,  2.89008440e+001, ...,\n",
              "        -9.07066237e+000,  7.19698364e+001, -3.25552179e+001],\n",
              "       [ 2.83357377e+001,  2.86522058e+001,  2.89717662e+001, ...,\n",
              "        -9.09292165e+000,  7.21464494e+001, -3.26351080e+001]])"
            ]
          },
          "execution_count": 15,
          "metadata": {},
          "output_type": "execute_result"
        }
      ],
      "source": [
        "fx = (sin_x(x))*255  #valuar funcion\n",
        "fx2 = np.tile(fx, (N,1))  #Se genera la matriz de N,N\n",
        "\n",
        "fy = exp_nx(t)\n",
        "fy2 = np.tile(fy, (N,1)) \n",
        "\n",
        "func = fx2 * fy2.T\n",
        "\n",
        "\n",
        "func\n",
        "\n",
        "#fy2 = np.tile(fy, (N,1))  #obtener valores para 2d\n",
        "#print(func.shape)\n"
      ]
    },
    {
      "cell_type": "code",
      "execution_count": 16,
      "metadata": {
        "colab": {
          "base_uri": "https://localhost:8080/",
          "height": 269
        },
        "id": "Zexs7yyiIkIK",
        "outputId": "c2a4c9dd-04b2-4a25-cb4d-1c224073cf36"
      },
      "outputs": [
        {
          "data": {
            "image/png": "[encoded data removed]",
            "text/plain": [
              "<Figure size 640x480 with 1 Axes>"
            ]
          },
          "metadata": {},
          "output_type": "display_data"
        }
      ],
      "source": [
        "plt.imshow(fx2, cmap=plt.cm.gray)\n",
        "plt.show()"
      ]
    }
  ],
  "metadata": {
    "colab": {
      "provenance": []
    },
    "kernelspec": {
      "display_name": "Python 3.9.13 64-bit (windows store)",
      "language": "python",
      "name": "python3"
    },
    "language_info": {
      "codemirror_mode": {
        "name": "ipython",
        "version": 3
      },
      "file_extension": ".py",
      "mimetype": "text/x-python",
      "name": "python",
      "nbconvert_exporter": "python",
      "pygments_lexer": "ipython3",
      "version": "3.9.13"
    },
    "orig_nbformat": 4,
    "vscode": {
      "interpreter": {
        "hash": "383552ff73c29931777df1b78844cdc68186a828858e9d18787bc0dc9c2054c1"
      }
    }
  },
  "nbformat": 4,
  "nbformat_minor": 0
}
