{
 "cells": [
  {
   "cell_type": "code",
   "execution_count": 3,
   "id": "273486f5",
   "metadata": {},
   "outputs": [],
   "source": [
    "import os\n",
    "import cv2\n",
    "import numpy as np\n",
    "import matplotlib.pyplot as plt\n",
    "from sklearn.cluster import KMeans\n",
    "from sklearn.svm import SVC\n",
    "from sklearn.model_selection import train_test_split\n",
    "from sklearn.metrics import accuracy_score\n",
    "import warnings\n",
    "warnings.filterwarnings('ignore')"
   ]
  },
  {
   "cell_type": "code",
   "execution_count": 4,
   "id": "3b6b925a",
   "metadata": {},
   "outputs": [
    {
     "ename": "error",
     "evalue": "OpenCV(4.6.0) D:\\a\\opencv-python\\opencv-python\\opencv\\modules\\imgproc\\src\\color.cpp:182: error: (-215:Assertion failed) !_src.empty() in function 'cv::cvtColor'\n",
     "output_type": "error",
     "traceback": [
      "\u001b[1;31m---------------------------------------------------------------------------\u001b[0m",
      "\u001b[1;31merror\u001b[0m                                     Traceback (most recent call last)",
      "\u001b[1;32mc:\\Users\\felli\\Documents\\SEMESTRE-9\\Reconocimiento-de-Patrones\\Proyecto\\SVM.ipynb Cell 2\u001b[0m in \u001b[0;36m<cell line: 7>\u001b[1;34m()\u001b[0m\n\u001b[0;32m      <a href='vscode-notebook-cell:/c%3A/Users/felli/Documents/SEMESTRE-9/Reconocimiento-de-Patrones/Proyecto/SVM.ipynb#W1sZmlsZQ%3D%3D?line=4'>5</a>\u001b[0m     images\u001b[39m.\u001b[39mappend(cv2\u001b[39m.\u001b[39mimread(\u001b[39m'\u001b[39m\u001b[39m./img/\u001b[39m\u001b[39m'\u001b[39m\u001b[39m+\u001b[39mi))\n\u001b[0;32m      <a href='vscode-notebook-cell:/c%3A/Users/felli/Documents/SEMESTRE-9/Reconocimiento-de-Patrones/Proyecto/SVM.ipynb#W1sZmlsZQ%3D%3D?line=6'>7</a>\u001b[0m \u001b[39mfor\u001b[39;00m i \u001b[39min\u001b[39;00m images:\n\u001b[1;32m----> <a href='vscode-notebook-cell:/c%3A/Users/felli/Documents/SEMESTRE-9/Reconocimiento-de-Patrones/Proyecto/SVM.ipynb#W1sZmlsZQ%3D%3D?line=7'>8</a>\u001b[0m     images[images\u001b[39m.\u001b[39mindex(i)] \u001b[39m=\u001b[39m cv2\u001b[39m.\u001b[39;49mcvtColor(i, cv2\u001b[39m.\u001b[39;49mCOLOR_BGR2GRAY)\n\u001b[0;32m     <a href='vscode-notebook-cell:/c%3A/Users/felli/Documents/SEMESTRE-9/Reconocimiento-de-Patrones/Proyecto/SVM.ipynb#W1sZmlsZQ%3D%3D?line=9'>10</a>\u001b[0m \u001b[39mfor\u001b[39;00m i \u001b[39min\u001b[39;00m images:\n\u001b[0;32m     <a href='vscode-notebook-cell:/c%3A/Users/felli/Documents/SEMESTRE-9/Reconocimiento-de-Patrones/Proyecto/SVM.ipynb#W1sZmlsZQ%3D%3D?line=10'>11</a>\u001b[0m     images[images\u001b[39m.\u001b[39mindex(i)] \u001b[39m=\u001b[39m cv2\u001b[39m.\u001b[39mresize(i,(\u001b[39m100\u001b[39m,\u001b[39m100\u001b[39m))\n",
      "\u001b[1;31merror\u001b[0m: OpenCV(4.6.0) D:\\a\\opencv-python\\opencv-python\\opencv\\modules\\imgproc\\src\\color.cpp:182: error: (-215:Assertion failed) !_src.empty() in function 'cv::cvtColor'\n"
     ]
    }
   ],
   "source": [
    "#Preprocessing images\n",
    "dir_list= os.listdir('data')\n",
    "images=list()\n",
    "for i in dir_list:\n",
    "    images.append(cv2.imread('./img/'+i))\n",
    "    \n",
    "for i in images:\n",
    "    images[images.index(i)] = cv2.cvtColor(i, cv2.COLOR_BGR2GRAY)\n",
    "\n",
    "for i in images:\n",
    "    images[images.index(i)] = cv2.resize(i,(100,100))\n",
    "    \n",
    "for i in images:\n",
    "    images[images.index(i)] = i.reshape((i.shape[0] * i.shape[1], 1))\n",
    "        "
   ]
  },
  {
   "cell_type": "code",
   "execution_count": null,
   "id": "505e371d",
   "metadata": {},
   "outputs": [],
   "source": [
    "#Spliting data\n",
    "images_train, images_test= train_test_split(images, test_size=0.2)"
   ]
  },
  {
   "cell_type": "code",
   "execution_count": null,
   "id": "a67ef599",
   "metadata": {},
   "outputs": [],
   "source": [
    "#Set the number of clusters\n",
    "num_clusters = 5\n",
    "labeled_images=list()\n",
    "labels_=list()\n",
    "cluster_centers_=list()\n",
    "km = KMeans(n_clusters=num_clusters)\n",
    "\n",
    "# Run k-means clustering\n",
    "for i in images_train:    \n",
    "    km.fit(i)\n",
    "    cluster_centers = km.cluster_centers_.squeeze()\n",
    "    labels = km.labels_\n",
    "    \n",
    "    # Convert the labels back into a 2D image\n",
    "    labels = labels.reshape(i.shape[0], i.shape[1])\n",
    "\n",
    "    # Create an image for each cluster\n",
    "    segmented_image = np.zeros_like(i)\n",
    "    for i in range(num_clusters):\n",
    "        segmented_image[labels == i] = cluster_centers[i]\n",
    "        \n",
    "    labeled_images.append(segmented_image)\n",
    "    labels_.append(labels)\n",
    "    "
   ]
  },
  {
   "cell_type": "code",
   "execution_count": null,
   "id": "4f237cd1",
   "metadata": {},
   "outputs": [],
   "source": [
    "# Use the segmented image as input to a machine learning model\n",
    "model = SVC()\n",
    "for i in range(len(labeled_images)):\n",
    "    model.fit(labeled_images[i], labels_[i])"
   ]
  },
  {
   "cell_type": "code",
   "execution_count": null,
   "id": "0725ac1a",
   "metadata": {},
   "outputs": [],
   "source": [
    "for i in images_test:\n",
    "    predictions= model.predict(i)    \n",
    "    predictedImage = np.zeros_like(i)\n",
    "\n",
    "for i in range(num_clusters):\n",
    "    predictedImage[predictions == i] = cluster_centers[i]\n",
    "\n",
    "predictedImage = predictedImage.reshape(100,100)*255.0\n",
    "plt.imshow(predictedImage)\n",
    "plt.show()"
   ]
  },
  {
   "cell_type": "code",
   "execution_count": null,
   "id": "977f96f8",
   "metadata": {},
   "outputs": [],
   "source": []
  }
 ],
 "metadata": {
  "kernelspec": {
   "display_name": "Python 3",
   "language": "python",
   "name": "python3"
  },
  "language_info": {
   "codemirror_mode": {
    "name": "ipython",
    "version": 3
   },
   "file_extension": ".py",
   "mimetype": "text/x-python",
   "name": "python",
   "nbconvert_exporter": "python",
   "pygments_lexer": "ipython3",
   "version": "3.9.13 (tags/v3.9.13:6de2ca5, May 17 2022, 16:36:42) [MSC v.1929 64 bit (AMD64)]"
  },
  "vscode": {
   "interpreter": {
    "hash": "383552ff73c29931777df1b78844cdc68186a828858e9d18787bc0dc9c2054c1"
   }
  }
 },
 "nbformat": 4,
 "nbformat_minor": 5
}
